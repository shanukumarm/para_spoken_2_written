{
 "cells": [
  {
   "cell_type": "code",
   "execution_count": 64,
   "metadata": {},
   "outputs": [],
   "source": [
    "def Rule():\n",
    "    rules =  {\n",
    "            \"zero\": 0,\n",
    "            \"one\" : 1,\n",
    "            \"two\": 2,\n",
    "            \"three\": 3,\n",
    "            \"four\": 4,\n",
    "            \"five\": 5,\n",
    "            \"six\": 6,\n",
    "            \"seven\": 7,\n",
    "            \"eight\": 8,\n",
    "            \"nine\": 9,\n",
    "            \"ten\": 10,\n",
    "            \"eleven\": 11,\n",
    "            \"twenty\": 20,\n",
    "            \"thirty\": 30,\n",
    "            \"forty\": 40,\n",
    "            \"fifty\": 50,\n",
    "            \"sixty\": 60,\n",
    "            \"seventy\": 70,\n",
    "            \"eighty\": 80,\n",
    "            \"ninety\": 90,\n",
    "            \"hundred\": 100,\n",
    "            \"C M\": \"CM\",\n",
    "            \"P M\": \"PM\",\n",
    "            \"double A\": \"AA\",\n",
    "            \"triple A\": \"AAA\"\n",
    "            }\n",
    "    return rules"
   ]
  },
  {
   "cell_type": "code",
   "execution_count": 65,
   "metadata": {},
   "outputs": [],
   "source": [
    "def Numbers():\n",
    "    num =   {\n",
    "            \"zero\": 0,\n",
    "            \"one\" : 1,\n",
    "            \"two\": 2,\n",
    "            \"three\": 3,\n",
    "            \"four\": 4,\n",
    "            \"five\": 5,\n",
    "            \"six\": 6,\n",
    "            \"seven\": 7,\n",
    "            \"eight\": 8,\n",
    "            \"nine\": 9,\n",
    "            \"ten\": 10,\n",
    "            \"eleven\": 11,\n",
    "            \"twenty\": 20,\n",
    "            \"thirty\": 30,\n",
    "            \"forty\": 40,\n",
    "            \"fifty\": 50,\n",
    "            \"sixty\": 60,\n",
    "            \"seventy\": 70,\n",
    "            \"eighty\": 80,\n",
    "            \"ninety\": 90,\n",
    "            \"hundred\": 100\n",
    "        }\n",
    "    return num"
   ]
  },
  {
   "cell_type": "code",
   "execution_count": 67,
   "metadata": {},
   "outputs": [],
   "source": [
    "def Specialrule():\n",
    "    specialrules = {\n",
    "                        \"dollers\": '$'\n",
    "                        }\n",
    "    return specialrules"
   ]
  },
  {
   "cell_type": "code",
   "execution_count": 82,
   "metadata": {},
   "outputs": [],
   "source": [
    "def s2w(para):\n",
    "    rules = Specialrule()\n",
    "    numbers = Numbers()\n",
    "    for rule in rules:\n",
    "        for number in numbers:\n",
    "            para = para.replace(\" \"+number+\" \"+rule+\" \" , \" \"+str(rules[rule])+str(numbers[number])+\" \")\n",
    "    rules = Rule()\n",
    "    for rule in rules:\n",
    "        para = para.replace(\" \"+rule+\" \", \" \"+str(rules[rule])+\" \")\n",
    "    return para         "
   ]
  },
  {
   "cell_type": "code",
   "execution_count": 83,
   "metadata": {},
   "outputs": [
    {
     "data": {
      "text/plain": [
       "'This is a AAA battery. $2 '"
      ]
     },
     "execution_count": 83,
     "metadata": {},
     "output_type": "execute_result"
    }
   ],
   "source": [
    "para = 'This is a triple A battery. two dollers '\n",
    "s2w(para)"
   ]
  },
  {
   "cell_type": "code",
   "execution_count": null,
   "metadata": {},
   "outputs": [],
   "source": []
  }
 ],
 "metadata": {
  "kernelspec": {
   "display_name": "Python 3",
   "language": "python",
   "name": "python3"
  },
  "language_info": {
   "codemirror_mode": {
    "name": "ipython",
    "version": 3
   },
   "file_extension": ".py",
   "mimetype": "text/x-python",
   "name": "python",
   "nbconvert_exporter": "python",
   "pygments_lexer": "ipython3",
   "version": "3.7.6"
  }
 },
 "nbformat": 4,
 "nbformat_minor": 4
}
